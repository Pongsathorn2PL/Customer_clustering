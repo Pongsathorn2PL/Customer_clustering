{
 "cells": [
  {
   "cell_type": "code",
   "execution_count": 47,
   "metadata": {},
   "outputs": [],
   "source": [
    "import pandas as pd\n",
    "import numpy as np\n",
    "import matplotlib.pyplot as plt\n",
    "import seaborn as sns\n",
    "from sklearn.preprocessing import StandardScaler, OneHotEncoder\n",
    "from sklearn.compose import ColumnTransformer\n",
    "from sklearn.pipeline import Pipeline\n",
    "from sklearn.impute import SimpleImputer\n",
    "%matplotlib inline"
   ]
  },
  {
   "cell_type": "code",
   "execution_count": 48,
   "metadata": {},
   "outputs": [],
   "source": [
    "data =pd.read_csv(\"/Users/pongsathornphakdeethai/Desktop/Lion's Projects/Customer Personal Analysis and Clustering/marketing_campaign.csv\", sep='\\t')"
   ]
  },
  {
   "cell_type": "code",
   "execution_count": 49,
   "metadata": {},
   "outputs": [
    {
     "data": {
      "text/plain": [
       "ID                      0\n",
       "Year_Birth              0\n",
       "Education               0\n",
       "Marital_Status          0\n",
       "Income                 24\n",
       "Kidhome                 0\n",
       "Teenhome                0\n",
       "Dt_Customer             0\n",
       "Recency                 0\n",
       "MntWines                0\n",
       "MntFruits               0\n",
       "MntMeatProducts         0\n",
       "MntFishProducts         0\n",
       "MntSweetProducts        0\n",
       "MntGoldProds            0\n",
       "NumDealsPurchases       0\n",
       "NumWebPurchases         0\n",
       "NumCatalogPurchases     0\n",
       "NumStorePurchases       0\n",
       "NumWebVisitsMonth       0\n",
       "AcceptedCmp3            0\n",
       "AcceptedCmp4            0\n",
       "AcceptedCmp5            0\n",
       "AcceptedCmp1            0\n",
       "AcceptedCmp2            0\n",
       "Complain                0\n",
       "Z_CostContact           0\n",
       "Z_Revenue               0\n",
       "Response                0\n",
       "dtype: int64"
      ]
     },
     "execution_count": 49,
     "metadata": {},
     "output_type": "execute_result"
    }
   ],
   "source": [
    "#missing value\n",
    "data.isnull().sum()"
   ]
  },
  {
   "cell_type": "code",
   "execution_count": 50,
   "metadata": {},
   "outputs": [],
   "source": [
    "df = data.copy()"
   ]
  },
  {
   "cell_type": "code",
   "execution_count": 51,
   "metadata": {},
   "outputs": [],
   "source": [
    "# highlight the code because I use pipeline instead this already\n",
    "# df[\"Income\"] = df[\"Income\"].fillna(df[\"Income\"].mean())"
   ]
  },
  {
   "cell_type": "code",
   "execution_count": 52,
   "metadata": {},
   "outputs": [],
   "source": [
    "df=df.drop('ID',axis=1)"
   ]
  },
  {
   "cell_type": "code",
   "execution_count": 53,
   "metadata": {},
   "outputs": [],
   "source": [
    "# create customer age column\n",
    "import datetime as dt\n",
    "df['age']=dt.datetime.now().year-df['Year_Birth']\n",
    "df=df.drop(['Year_Birth'],axis=1)"
   ]
  },
  {
   "cell_type": "code",
   "execution_count": 54,
   "metadata": {},
   "outputs": [],
   "source": [
    "df[\"children\"] = df[\"Kidhome\"]+df[\"Teenhome\"]"
   ]
  },
  {
   "cell_type": "code",
   "execution_count": 55,
   "metadata": {},
   "outputs": [],
   "source": [
    "# select columns for different preprocessing\n",
    "categorical_features = ['Education', 'Marital_Status']\n",
    "numerical_features = df.select_dtypes(include=['int64', 'float64']).columns.tolist()"
   ]
  },
  {
   "cell_type": "code",
   "execution_count": 56,
   "metadata": {},
   "outputs": [],
   "source": [
    "# remove non-relevant numerical features for clustering\n",
    "non_relevant_features = ['ID', 'Z_CostContact', 'Z_Revenue', 'Complain']\n",
    "numerical_features = [feature for feature in numerical_features if feature not in non_relevant_features]"
   ]
  },
  {
   "cell_type": "markdown",
   "metadata": {},
   "source": [
    "##### Create preprocessing pipelines"
   ]
  },
  {
   "cell_type": "code",
   "execution_count": 57,
   "metadata": {},
   "outputs": [],
   "source": [
    "numerical_pipeline = Pipeline(steps=[(\"imputer\", SimpleImputer(strategy=\"median\")),\n",
    "                                     (\"scaler\", StandardScaler())\n",
    "                                     ]) \n",
    "\n",
    "categorical_pipeline = Pipeline(steps=[(\"imputer\", SimpleImputer(strategy=\"constant\", fill_value=\"missing\")),\n",
    "                                       (\"onehot\", OneHotEncoder(handle_unknown=\"ignore\"))\n",
    "                                       ])"
   ]
  },
  {
   "cell_type": "markdown",
   "metadata": {},
   "source": [
    "##### Combine preprocessing pipeline"
   ]
  },
  {
   "cell_type": "code",
   "execution_count": 58,
   "metadata": {},
   "outputs": [],
   "source": [
    "preprocessor = ColumnTransformer(\n",
    "                transformers=[\n",
    "                    (\"num\", numerical_pipeline, numerical_features),\n",
    "                    (\"cate\", categorical_pipeline, categorical_features)\n",
    "                ]\n",
    ")"
   ]
  },
  {
   "cell_type": "code",
   "execution_count": 59,
   "metadata": {},
   "outputs": [
    {
     "data": {
      "text/plain": [
       "(Education               0\n",
       " Marital_Status          0\n",
       " Income                 24\n",
       " Kidhome                 0\n",
       " Teenhome                0\n",
       " Dt_Customer             0\n",
       " Recency                 0\n",
       " MntWines                0\n",
       " MntFruits               0\n",
       " MntMeatProducts         0\n",
       " MntFishProducts         0\n",
       " MntSweetProducts        0\n",
       " MntGoldProds            0\n",
       " NumDealsPurchases       0\n",
       " NumWebPurchases         0\n",
       " NumCatalogPurchases     0\n",
       " NumStorePurchases       0\n",
       " NumWebVisitsMonth       0\n",
       " AcceptedCmp3            0\n",
       " AcceptedCmp4            0\n",
       " AcceptedCmp5            0\n",
       " AcceptedCmp1            0\n",
       " AcceptedCmp2            0\n",
       " Complain                0\n",
       " Z_CostContact           0\n",
       " Z_Revenue               0\n",
       " Response                0\n",
       " age                     0\n",
       " children                0\n",
       " dtype: int64,\n",
       " ['Income',\n",
       "  'Kidhome',\n",
       "  'Teenhome',\n",
       "  'Recency',\n",
       "  'MntWines',\n",
       "  'MntFruits',\n",
       "  'MntMeatProducts',\n",
       "  'MntFishProducts',\n",
       "  'MntSweetProducts',\n",
       "  'MntGoldProds',\n",
       "  'NumDealsPurchases',\n",
       "  'NumWebPurchases',\n",
       "  'NumCatalogPurchases',\n",
       "  'NumStorePurchases',\n",
       "  'NumWebVisitsMonth',\n",
       "  'AcceptedCmp3',\n",
       "  'AcceptedCmp4',\n",
       "  'AcceptedCmp5',\n",
       "  'AcceptedCmp1',\n",
       "  'AcceptedCmp2',\n",
       "  'Response',\n",
       "  'age',\n",
       "  'children'])"
      ]
     },
     "execution_count": 59,
     "metadata": {},
     "output_type": "execute_result"
    }
   ],
   "source": [
    "# Preprocessing the data\n",
    "X_preprocessed = preprocessor.fit_transform(df)\n",
    "df.isnull().sum(), numerical_features"
   ]
  },
  {
   "cell_type": "markdown",
   "metadata": {},
   "source": [
    "## Clustering TIME!!!"
   ]
  },
  {
   "cell_type": "code",
   "execution_count": 60,
   "metadata": {},
   "outputs": [
    {
     "name": "stderr",
     "output_type": "stream",
     "text": [
      "/opt/homebrew/anaconda3/lib/python3.11/site-packages/sklearn/cluster/_kmeans.py:870: FutureWarning: The default value of `n_init` will change from 10 to 'auto' in 1.4. Set the value of `n_init` explicitly to suppress the warning\n",
      "  warnings.warn(\n",
      "/opt/homebrew/anaconda3/lib/python3.11/site-packages/sklearn/cluster/_kmeans.py:870: FutureWarning: The default value of `n_init` will change from 10 to 'auto' in 1.4. Set the value of `n_init` explicitly to suppress the warning\n",
      "  warnings.warn(\n"
     ]
    },
    {
     "name": "stderr",
     "output_type": "stream",
     "text": [
      "/opt/homebrew/anaconda3/lib/python3.11/site-packages/sklearn/cluster/_kmeans.py:870: FutureWarning: The default value of `n_init` will change from 10 to 'auto' in 1.4. Set the value of `n_init` explicitly to suppress the warning\n",
      "  warnings.warn(\n",
      "/opt/homebrew/anaconda3/lib/python3.11/site-packages/sklearn/cluster/_kmeans.py:870: FutureWarning: The default value of `n_init` will change from 10 to 'auto' in 1.4. Set the value of `n_init` explicitly to suppress the warning\n",
      "  warnings.warn(\n",
      "/opt/homebrew/anaconda3/lib/python3.11/site-packages/sklearn/cluster/_kmeans.py:870: FutureWarning: The default value of `n_init` will change from 10 to 'auto' in 1.4. Set the value of `n_init` explicitly to suppress the warning\n",
      "  warnings.warn(\n",
      "/opt/homebrew/anaconda3/lib/python3.11/site-packages/sklearn/cluster/_kmeans.py:870: FutureWarning: The default value of `n_init` will change from 10 to 'auto' in 1.4. Set the value of `n_init` explicitly to suppress the warning\n",
      "  warnings.warn(\n",
      "/opt/homebrew/anaconda3/lib/python3.11/site-packages/sklearn/cluster/_kmeans.py:870: FutureWarning: The default value of `n_init` will change from 10 to 'auto' in 1.4. Set the value of `n_init` explicitly to suppress the warning\n",
      "  warnings.warn(\n",
      "/opt/homebrew/anaconda3/lib/python3.11/site-packages/sklearn/cluster/_kmeans.py:870: FutureWarning: The default value of `n_init` will change from 10 to 'auto' in 1.4. Set the value of `n_init` explicitly to suppress the warning\n",
      "  warnings.warn(\n",
      "/opt/homebrew/anaconda3/lib/python3.11/site-packages/sklearn/cluster/_kmeans.py:870: FutureWarning: The default value of `n_init` will change from 10 to 'auto' in 1.4. Set the value of `n_init` explicitly to suppress the warning\n",
      "  warnings.warn(\n",
      "/opt/homebrew/anaconda3/lib/python3.11/site-packages/sklearn/cluster/_kmeans.py:870: FutureWarning: The default value of `n_init` will change from 10 to 'auto' in 1.4. Set the value of `n_init` explicitly to suppress the warning\n",
      "  warnings.warn(\n"
     ]
    },
    {
     "data": {
      "image/png": "[encoded data removed]",
      "text/plain": [
       "<Figure size 1000x600 with 1 Axes>"
      ]
     },
     "metadata": {},
     "output_type": "display_data"
    }
   ],
   "source": [
    "from sklearn.cluster import KMeans\n",
    "\n",
    "# Determining the optimal number of clusters using the Elbow Method\n",
    "inertia = []\n",
    "k_range = range(1, 11)\n",
    "\n",
    "for k in k_range:\n",
    "    kmeans = KMeans(n_clusters=k, random_state=42)\n",
    "    kmeans.fit(X_preprocessed)\n",
    "    inertia.append(kmeans.inertia_)\n",
    "\n",
    "# Plotting the Elbow Curve\n",
    "plt.figure(figsize=(10, 6))\n",
    "plt.plot(k_range, inertia, marker='o', linestyle='--')\n",
    "plt.title('Elbow Method For Optimal k')\n",
    "plt.xlabel('Number of clusters')\n",
    "plt.ylabel('Inertia')\n",
    "plt.xticks(k_range)\n",
    "plt.grid(True)\n",
    "plt.show()"
   ]
  },
  {
   "cell_type": "markdown",
   "metadata": {},
   "source": [
    "### Proceeding with K-means clustering using 4 clusters"
   ]
  },
  {
   "cell_type": "code",
   "execution_count": 61,
   "metadata": {},
   "outputs": [
    {
     "name": "stderr",
     "output_type": "stream",
     "text": [
      "/opt/homebrew/anaconda3/lib/python3.11/site-packages/sklearn/cluster/_kmeans.py:870: FutureWarning: The default value of `n_init` will change from 10 to 'auto' in 1.4. Set the value of `n_init` explicitly to suppress the warning\n",
      "  warnings.warn(\n"
     ]
    },
    {
     "data": {
      "text/html": [
       "<div>\n",
       "<style scoped>\n",
       "    .dataframe tbody tr th:only-of-type {\n",
       "        vertical-align: middle;\n",
       "    }\n",
       "\n",
       "    .dataframe tbody tr th {\n",
       "        vertical-align: top;\n",
       "    }\n",
       "\n",
       "    .dataframe thead th {\n",
       "        text-align: right;\n",
       "    }\n",
       "</style>\n",
       "<table border=\"1\" class=\"dataframe\">\n",
       "  <thead>\n",
       "    <tr style=\"text-align: right;\">\n",
       "      <th>Cluster</th>\n",
       "      <th>0</th>\n",
       "      <th>1</th>\n",
       "      <th>2</th>\n",
       "      <th>3</th>\n",
       "    </tr>\n",
       "  </thead>\n",
       "  <tbody>\n",
       "    <tr>\n",
       "      <th>Income</th>\n",
       "      <td>81814.928571</td>\n",
       "      <td>34675.111874</td>\n",
       "      <td>58027.475214</td>\n",
       "      <td>73772.497748</td>\n",
       "    </tr>\n",
       "    <tr>\n",
       "      <th>Kidhome</th>\n",
       "      <td>0.041420</td>\n",
       "      <td>0.806984</td>\n",
       "      <td>0.231419</td>\n",
       "      <td>0.042411</td>\n",
       "    </tr>\n",
       "    <tr>\n",
       "      <th>Teenhome</th>\n",
       "      <td>0.118343</td>\n",
       "      <td>0.442289</td>\n",
       "      <td>0.964527</td>\n",
       "      <td>0.194196</td>\n",
       "    </tr>\n",
       "    <tr>\n",
       "      <th>Recency</th>\n",
       "      <td>49.508876</td>\n",
       "      <td>49.317168</td>\n",
       "      <td>48.145270</td>\n",
       "      <td>49.754464</td>\n",
       "    </tr>\n",
       "    <tr>\n",
       "      <th>MntWines</th>\n",
       "      <td>875.538462</td>\n",
       "      <td>41.111542</td>\n",
       "      <td>462.903716</td>\n",
       "      <td>483.091518</td>\n",
       "    </tr>\n",
       "    <tr>\n",
       "      <th>MntFruits</th>\n",
       "      <td>56.289941</td>\n",
       "      <td>4.895247</td>\n",
       "      <td>21.167230</td>\n",
       "      <td>71.040179</td>\n",
       "    </tr>\n",
       "    <tr>\n",
       "      <th>MntMeatProducts</th>\n",
       "      <td>470.337278</td>\n",
       "      <td>23.057226</td>\n",
       "      <td>134.582770</td>\n",
       "      <td>426.419643</td>\n",
       "    </tr>\n",
       "    <tr>\n",
       "      <th>MntFishProducts</th>\n",
       "      <td>77.627219</td>\n",
       "      <td>7.083414</td>\n",
       "      <td>27.817568</td>\n",
       "      <td>105.283482</td>\n",
       "    </tr>\n",
       "    <tr>\n",
       "      <th>MntSweetProducts</th>\n",
       "      <td>66.177515</td>\n",
       "      <td>4.923375</td>\n",
       "      <td>21.645270</td>\n",
       "      <td>70.417411</td>\n",
       "    </tr>\n",
       "    <tr>\n",
       "      <th>MntGoldProds</th>\n",
       "      <td>77.976331</td>\n",
       "      <td>15.114452</td>\n",
       "      <td>59.841216</td>\n",
       "      <td>76.834821</td>\n",
       "    </tr>\n",
       "    <tr>\n",
       "      <th>NumDealsPurchases</th>\n",
       "      <td>1.035503</td>\n",
       "      <td>2.079534</td>\n",
       "      <td>3.782095</td>\n",
       "      <td>1.450893</td>\n",
       "    </tr>\n",
       "    <tr>\n",
       "      <th>NumWebPurchases</th>\n",
       "      <td>5.479290</td>\n",
       "      <td>2.113482</td>\n",
       "      <td>6.329392</td>\n",
       "      <td>5.129464</td>\n",
       "    </tr>\n",
       "    <tr>\n",
       "      <th>NumCatalogPurchases</th>\n",
       "      <td>6.059172</td>\n",
       "      <td>0.533463</td>\n",
       "      <td>3.069257</td>\n",
       "      <td>5.741071</td>\n",
       "    </tr>\n",
       "    <tr>\n",
       "      <th>NumStorePurchases</th>\n",
       "      <td>8.213018</td>\n",
       "      <td>3.191077</td>\n",
       "      <td>7.707770</td>\n",
       "      <td>8.323661</td>\n",
       "    </tr>\n",
       "    <tr>\n",
       "      <th>NumWebVisitsMonth</th>\n",
       "      <td>3.005917</td>\n",
       "      <td>6.498545</td>\n",
       "      <td>5.739865</td>\n",
       "      <td>2.908482</td>\n",
       "    </tr>\n",
       "    <tr>\n",
       "      <th>AcceptedCmp3</th>\n",
       "      <td>0.142012</td>\n",
       "      <td>0.073715</td>\n",
       "      <td>0.060811</td>\n",
       "      <td>0.060268</td>\n",
       "    </tr>\n",
       "    <tr>\n",
       "      <th>AcceptedCmp4</th>\n",
       "      <td>0.384615</td>\n",
       "      <td>0.007759</td>\n",
       "      <td>0.135135</td>\n",
       "      <td>0.031250</td>\n",
       "    </tr>\n",
       "    <tr>\n",
       "      <th>AcceptedCmp5</th>\n",
       "      <td>0.946746</td>\n",
       "      <td>0.000000</td>\n",
       "      <td>0.005068</td>\n",
       "      <td>0.000000</td>\n",
       "    </tr>\n",
       "    <tr>\n",
       "      <th>AcceptedCmp1</th>\n",
       "      <td>0.437870</td>\n",
       "      <td>0.000970</td>\n",
       "      <td>0.033784</td>\n",
       "      <td>0.109375</td>\n",
       "    </tr>\n",
       "    <tr>\n",
       "      <th>AcceptedCmp2</th>\n",
       "      <td>0.124260</td>\n",
       "      <td>0.001940</td>\n",
       "      <td>0.011824</td>\n",
       "      <td>0.000000</td>\n",
       "    </tr>\n",
       "    <tr>\n",
       "      <th>Complain</th>\n",
       "      <td>0.005917</td>\n",
       "      <td>0.012609</td>\n",
       "      <td>0.006757</td>\n",
       "      <td>0.006696</td>\n",
       "    </tr>\n",
       "    <tr>\n",
       "      <th>Z_CostContact</th>\n",
       "      <td>3.000000</td>\n",
       "      <td>3.000000</td>\n",
       "      <td>3.000000</td>\n",
       "      <td>3.000000</td>\n",
       "    </tr>\n",
       "    <tr>\n",
       "      <th>Z_Revenue</th>\n",
       "      <td>11.000000</td>\n",
       "      <td>11.000000</td>\n",
       "      <td>11.000000</td>\n",
       "      <td>11.000000</td>\n",
       "    </tr>\n",
       "    <tr>\n",
       "      <th>Response</th>\n",
       "      <td>0.591716</td>\n",
       "      <td>0.094083</td>\n",
       "      <td>0.104730</td>\n",
       "      <td>0.167411</td>\n",
       "    </tr>\n",
       "    <tr>\n",
       "      <th>age</th>\n",
       "      <td>54.656805</td>\n",
       "      <td>52.362755</td>\n",
       "      <td>59.817568</td>\n",
       "      <td>55.803571</td>\n",
       "    </tr>\n",
       "    <tr>\n",
       "      <th>children</th>\n",
       "      <td>0.159763</td>\n",
       "      <td>1.249273</td>\n",
       "      <td>1.195946</td>\n",
       "      <td>0.236607</td>\n",
       "    </tr>\n",
       "  </tbody>\n",
       "</table>\n",
       "</div>"
      ],
      "text/plain": [
       "Cluster                         0             1             2             3\n",
       "Income               81814.928571  34675.111874  58027.475214  73772.497748\n",
       "Kidhome                  0.041420      0.806984      0.231419      0.042411\n",
       "Teenhome                 0.118343      0.442289      0.964527      0.194196\n",
       "Recency                 49.508876     49.317168     48.145270     49.754464\n",
       "MntWines               875.538462     41.111542    462.903716    483.091518\n",
       "MntFruits               56.289941      4.895247     21.167230     71.040179\n",
       "MntMeatProducts        470.337278     23.057226    134.582770    426.419643\n",
       "MntFishProducts         77.627219      7.083414     27.817568    105.283482\n",
       "MntSweetProducts        66.177515      4.923375     21.645270     70.417411\n",
       "MntGoldProds            77.976331     15.114452     59.841216     76.834821\n",
       "NumDealsPurchases        1.035503      2.079534      3.782095      1.450893\n",
       "NumWebPurchases          5.479290      2.113482      6.329392      5.129464\n",
       "NumCatalogPurchases      6.059172      0.533463      3.069257      5.741071\n",
       "NumStorePurchases        8.213018      3.191077      7.707770      8.323661\n",
       "NumWebVisitsMonth        3.005917      6.498545      5.739865      2.908482\n",
       "AcceptedCmp3             0.142012      0.073715      0.060811      0.060268\n",
       "AcceptedCmp4             0.384615      0.007759      0.135135      0.031250\n",
       "AcceptedCmp5             0.946746      0.000000      0.005068      0.000000\n",
       "AcceptedCmp1             0.437870      0.000970      0.033784      0.109375\n",
       "AcceptedCmp2             0.124260      0.001940      0.011824      0.000000\n",
       "Complain                 0.005917      0.012609      0.006757      0.006696\n",
       "Z_CostContact            3.000000      3.000000      3.000000      3.000000\n",
       "Z_Revenue               11.000000     11.000000     11.000000     11.000000\n",
       "Response                 0.591716      0.094083      0.104730      0.167411\n",
       "age                     54.656805     52.362755     59.817568     55.803571\n",
       "children                 0.159763      1.249273      1.195946      0.236607"
      ]
     },
     "execution_count": 61,
     "metadata": {},
     "output_type": "execute_result"
    }
   ],
   "source": [
    "kmeans_final = KMeans(n_clusters=4, random_state=42)\n",
    "kmeans_final.fit(X_preprocessed)\n",
    "\n",
    "# Assign the clusters to the original data\n",
    "df[\"Cluster\"] = kmeans_final.labels_\n",
    "\n",
    "# Analyz the characteristics of each cluster\n",
    "cluster_summary = df.groupby(\"Cluster\").mean(numeric_only=True)\n",
    "cluster_summary.T"
   ]
  },
  {
   "cell_type": "code",
   "execution_count": 62,
   "metadata": {},
   "outputs": [],
   "source": [
    "# # Assign the clusters to the original data (assuming you already have KMeans fitted)\n",
    "# df[\"Cluster\"] = kmeans_final.labels_\n",
    "\n",
    "# # Select only numeric columns (assuming you know the column names)\n",
    "# numeric_cols = [col for col in df.columns if pd.api.types.is_numeric_dtype(df[col])]\n",
    "\n",
    "# # Group by cluster and get min/max for numeric columns only\n",
    "# cluster_summary = df[numeric_cols].groupby(\"Cluster\").agg(['min', 'max'])\n",
    "\n",
    "# # Transpose the summary table for better readability\n",
    "# cluster_summary = cluster_summary.T\n",
    "\n",
    "# # Display the table\n",
    "# print(cluster_summary)"
   ]
  },
  {
   "cell_type": "markdown",
   "metadata": {},
   "source": [
    "#### Summarize of 4 clusters\n",
    "\n",
    "Cluster 0: \n",
    "\n",
    "- highest income\n",
    "- low number of children\n",
    "- spends significantly on wines, meats\n",
    "- high acceptance rate for each campaign\n",
    "- low purchase with discount\n",
    "- low complain rate\n",
    "- highest acceptance rate for 5th campaign\n",
    "\n",
    "\n",
    "Cluster 1: \n",
    "\n",
    "- lowest income\n",
    "- high kid\n",
    "- spend highest time in visiting website per month\n",
    "- low puchase and campieng accepting rate\n",
    "- low response rate\n",
    "- high complain\n",
    "\n",
    "\n",
    "Cluster 2:\n",
    "\n",
    "- moderate incomeand\n",
    "- spends generously across various product categories, especially on wines, fruits, and meats\n",
    "- mostly purchase with discount on website and store\n",
    "- low acceptance rates for the campaigns\n",
    "- lowest recency\n",
    "\n",
    "\n",
    "Cluster 3: \n",
    "- pretty high income\n",
    "- balanced spending pattern across the board\n",
    "- very high fruits, meat, fish and sweets purchasing rate\n",
    "- mostly purchase on store, but low website visiting rate\n",
    "- low campaign accepting, but campaign 1.\n",
    "- low complain"
   ]
  },
  {
   "cell_type": "markdown",
   "metadata": {},
   "source": []
  }
 ],
 "metadata": {
  "kernelspec": {
   "display_name": "base",
   "language": "python",
   "name": "python3"
  },
  "language_info": {
   "codemirror_mode": {
    "name": "ipython",
    "version": 3
   },
   "file_extension": ".py",
   "mimetype": "text/x-python",
   "name": "python",
   "nbconvert_exporter": "python",
   "pygments_lexer": "ipython3",
   "version": "3.11.7"
  }
 },
 "nbformat": 4,
 "nbformat_minor": 2
}
